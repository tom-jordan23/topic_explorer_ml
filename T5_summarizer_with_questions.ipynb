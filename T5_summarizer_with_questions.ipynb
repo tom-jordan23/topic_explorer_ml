{
 "cells": [
  {
   "cell_type": "markdown",
   "metadata": {},
   "source": [
    "# Summarize data with T5 summarization and question answering\n",
    "\n",
    "Summarization: flan_t5 - working well\n",
    "QA: xlm_roberta_base_squad2   - not so much"
   ]
  },
  {
   "cell_type": "code",
   "execution_count": 19,
   "metadata": {},
   "outputs": [],
   "source": [
    "import pandas as pd\n",
    "import os\n",
    "import sentencepiece\n",
    "import torch\n",
    "\n",
    "from transformers import pipeline, AutoTokenizer, T5Tokenizer, T5ForConditionalGeneration, AutoModelForQuestionAnswering, AutoTokenizer, pipeline"
   ]
  },
  {
   "cell_type": "code",
   "execution_count": 15,
   "metadata": {},
   "outputs": [],
   "source": [
    "# config variables\n",
    "\n",
    "summary_file = \"summary_orig.xlsx\"\n",
    "summarization_model = \"google/flan-t5-base\"\n",
    "qa_model = \"deepset/roberta-base-squad2\"\n"
   ]
  },
  {
   "cell_type": "code",
   "execution_count": 16,
   "metadata": {},
   "outputs": [
    {
     "name": "stdout",
     "output_type": "stream",
     "text": [
      "/Users/tjordan/code/git/topic_explorer_ml/summary_orig.xlsx\n"
     ]
    }
   ],
   "source": [
    "# load the excel data into a pandas dataframe\n",
    "directory_path = os.getcwd()\n",
    "summary_file = os.path.join(directory_path, summary_file)\n",
    "print(summary_file)\n",
    "df = pd.read_excel(summary_file)"
   ]
  },
  {
   "cell_type": "code",
   "execution_count": 17,
   "metadata": {},
   "outputs": [
    {
     "name": "stderr",
     "output_type": "stream",
     "text": [
      "Special tokens have been added in the vocabulary, make sure the associated word embeddings are fine-tuned or trained.\n"
     ]
    },
    {
     "name": "stdout",
     "output_type": "stream",
     "text": [
      "Original text:  On 10 May 2024, flash floods swept across multiple provinces in the northeast region of Afghanistan, leaving more than 250,000 people homeless. The provinces most impacted by the flash floods were Badakhshan, Baghlan, and Takhar. These floods followed earlier flooding from 16 to 20 April 2024, which had affected 24 provinces.\n",
      "Input Token length:  79\n",
      "Summary Token length:  21\n",
      "Summary text:  More than 250,000 people were left homeless after flash floods in Afghanistan in May 2024.\n",
      "Original text:  Based on data consolidated by the Afghan Red Crescent Society (ARCS), as of 18 May 2024, at least 300 deaths had been reported in 33 provinces. More than 35,400 households (257,850 people) have been directly affected across the country, with one million people at risk of being indirectly affected nationwide. An estimated 22,000 livestock and close to 120,000 acres of agricultural land were destroyed. There are also numerous reports of bridges being destroyed, though the total numbers are yet to be confirmed. The 10 May 2024 flash floods intensified the flooding across the Northeast, and by 17 May, the situation had worsened. The combination and accumulation of these floods have caused severe humanitarian needs. A total of 33 provinces (out of 34 provinces in Afghanistan) have been impacted, with Baghlan and Ghor hardest hit. The situation continues to develop, as more rainfall is still forecasted in the affected areas in the coming days.\n",
      "Input Token length:  204\n",
      "Summary Token length:  51\n",
      "Summary text:  More than a million people have been affected by floods in Afghanistan since May 2024, according to a report by the Afghan Red Crescent Society (ARCS) and the Afghan Red Crescent Society (Arabian Red Crescent Society).\n",
      "Original text:  ARCS is supporting the immediate response with teams comprising dozens of responders, augmented by staff from the IFRC network in-country, who are on the ground responding.\n",
      "Input Token length:  42\n",
      "Summary Token length:  21\n",
      "Summary text:  ARCS is supporting the immediate response with teams comprising dozens of responders, augmented\n",
      "Original text:  This situation also occurs against the backdrop of ongoing crises across Afghanistan, following the compounding impacts of multiple shocks, including severe drought, multiple instances of flooding and earthquakes, public health emergencies, and economic hardship. The political changes of August 2021 prompted the application of a sanctions regime, which has fueled economic hardship due to constrained international banking.\n",
      "Input Token length:  77\n",
      "Summary Token length:  34\n",
      "Summary text:  The Afghan government has stepped up its efforts to address the country's economic crisis, which has been compounded by a series of shocks.\n",
      "Original text:  An estimated 23.7 million people—more than half of Afghanistan’s population—require humanitarian assistance to survive as the country enters its fourth consecutive year of drought conditions and the third year of crippling economic decline, while still reeling from the pre-existing effects of decades-long conflict. According to the INFORM risk index 2024, Afghanistan ranks as the fourth country in the world with the highest risk of humanitarian crises and disasters that may require international assistance.\n",
      "Input Token length:  101\n",
      "Summary Token length:  50\n",
      "Summary text:  Afghanistan faces a severe drought and economic decline as it enters its fourth consecutive year of drought and economic decline, while still reeling from the pre-existing effects of decades-long conflict, according to the country’s risk index 20\n",
      "Original text:  **What happened, where and when?**\n",
      "Input Token length:  12\n",
      "Summary Token length:  6\n",
      "Summary text:  During World War II\n",
      "Original text:  A severe flash flood struck the Lori and Tavush regions in Armenia on 26 May 2024, following heavy rain the previous day. Between Alaverdi and Chochkan, the flooding affected at least 15 villages, including Alaverdi, Akhtala, Bagratashen, Bendik, Deghdsavan, Haghtanak, Karkop, Mets Ayrum, Pokr Ayrum, Sanahin, Shamlug, and Shnogh. The flooding resulted in significant damage to infrastructure, homes, livestock, and businesses. Based on the latest national population census of Armenia, the combined population of these villages exceeds 30,000 people. Therefore, the impact on these people is imminent.\n",
      "Input Token length:  164\n",
      "Summary Token length:  51\n",
      "Summary text:  A flash flood in Armenia has left at least 15 villages without electricity or water, according to the country's emergency management agency, the Armenian Central Bureau of Statistics (ABS) and the Armenian Central Bureau of Statistics (ABS).\n",
      "Original text:  The National Crisis Management Center of the Armenian Ministry of Internal Affairs received the first reports of the Debed River overflowing overnight on 26 May at 00:40, creating an extreme situation for residents of neighboring settlements. Prime Minister Nikol Pashinyan decided to form an operational headquarters at the regional level under the leadership of the Minister of Territorial Administration and Infrastructure, Gnel Sanosyan, and localized it in Alaverdi. The government, regional authorities, local rescue services, and municipalities are working diligently to respond to the emergency and help the affected population.\n",
      "Input Token length:  130\n",
      "Summary Token length:  55\n",
      "Summary text:  Armenian Prime Minister Nikol Pashinyan has set up a regional crisis management center after the Debed River overflowed overnight on 26 May, creating an emergency situation for residents of neighboring settlements, according to the ministry of internal affairs.\n",
      "Original text:  Since the event began, emergency and rescue operations have been carried out in both flood-affected regions of Lori and Tavush. On 28 May, the Armenian government decided to declare a disaster zone in the communities of the Tavush and Lori regions. The decision was formalized in Resolution nr. 492-A issued on 28 May 2024 by the Prime Minister of the Republic of Armenia.\n",
      "Input Token length:  89\n",
      "Summary Token length:  25\n",
      "Summary text:  The Armenian government has declared a disaster zone in the communities of the Tavush and Lori regions.\n"
     ]
    }
   ],
   "source": [
    "# create the summarization pipeline and loop through the dataframe to summarize the data \n",
    "# in the source_original_text column and add the summary to the dataframe in a column named source_summary\n",
    "\n",
    "summarizer = T5ForConditionalGeneration.from_pretrained(summarization_model)\n",
    "tokenizer = T5Tokenizer.from_pretrained(summarization_model)\n",
    "\n",
    "scaling_factor = 0.5 #how much we want to scale the summary length\n",
    "\n",
    "df_results = pd.DataFrame(columns=[\"source_text\", \"summary_text\", \"source_text_tokens\", \"summary_text_tokens\", \"max_length\", \"min_length\", \n",
    "                                   \"killed\", \"injured\", \"displaced\", \"affected\", \"location\", \"summary_model used\", \"qa_model used\"])\n",
    "\n",
    "for index, row in df.iterrows():\n",
    "    source_text = row[\"source_original_text\"]\n",
    "    print(\"Original text: \", source_text)\n",
    "\n",
    "    # tokenize the input text\n",
    "    inputs = tokenizer.encode(\"summarize: \" + source_text, return_tensors=\"pt\", max_length=1024, truncation=True)\n",
    "    input_length = len(inputs[0])\n",
    "    print(\"Input Token length: \", input_length)\n",
    "\n",
    "    # scale the summary length based on the input length\n",
    "    max_length = int(input_length * scaling_factor)\n",
    "    min_length = 50\n",
    "    if max_length < 50:\n",
    "        min_length = int(max_length * 0.5)\n",
    "\n",
    "    summary_ids = summarizer.generate(inputs, max_length=max_length, min_length=min_length, length_penalty=2.0, num_beams=4, early_stopping=True)\n",
    "    print(\"Summary Token length: \", len(summary_ids[0]))\n",
    "    summary = tokenizer.decode(summary_ids[0], skip_special_tokens=True)\n",
    "    print(\"Summary text: \", summary)\n",
    "    df_results.at[index, \"source_text\"] = source_text\n",
    "    df_results.at[index, \"summary_text\"] = summary\n",
    "    df_results.at[index, \"source_text_tokens\"] = input_length\n",
    "    df_results.at[index, \"summary_text_tokens\"] = len(summary_ids[0])\n",
    "    df_results.at[index, \"max_length\"] = max_length\n",
    "    df_results.at[index, \"min_length\"] = min_length\n",
    "    df_results.at[index, \"model used\"] = summarization_model\n",
    "\n",
    "# now write an excel file with the summarized data\n",
    "# df_results.to_excel(\"summarized_data_flan_T5_base.xlsx\")"
   ]
  },
  {
   "cell_type": "code",
   "execution_count": 20,
   "metadata": {},
   "outputs": [
    {
     "name": "stdout",
     "output_type": "stream",
     "text": [
      "Original text:  On 10 May 2024, flash floods swept across multiple provinces in the northeast region of Afghanistan, leaving more than 250,000 people homeless. The provinces most impacted by the flash floods were Badakhshan, Baghlan, and Takhar. These floods followed earlier flooding from 16 to 20 April 2024, which had affected 24 provinces.\n",
      "Killed:  {'score': 0.00028329723863862455, 'start': 314, 'end': 316, 'answer': '24'}\n",
      "Injured:  {'score': 0.0001770278176991269, 'start': 109, 'end': 142, 'answer': 'more than 250,000 people homeless'}\n",
      "Missing:  {'score': 0.0886244997382164, 'start': 119, 'end': 126, 'answer': '250,000'}\n",
      "Displaced:  {'score': 0.40163159370422363, 'start': 119, 'end': 126, 'answer': '250,000'}\n",
      "Affected:  {'score': 0.15461550652980804, 'start': 109, 'end': 126, 'answer': 'more than 250,000'}\n",
      "Location:  {'score': 0.3871031403541565, 'start': 68, 'end': 99, 'answer': 'northeast region of Afghanistan'}\n",
      "Original text:  Based on data consolidated by the Afghan Red Crescent Society (ARCS), as of 18 May 2024, at least 300 deaths had been reported in 33 provinces. More than 35,400 households (257,850 people) have been directly affected across the country, with one million people at risk of being indirectly affected nationwide. An estimated 22,000 livestock and close to 120,000 acres of agricultural land were destroyed. There are also numerous reports of bridges being destroyed, though the total numbers are yet to be confirmed. The 10 May 2024 flash floods intensified the flooding across the Northeast, and by 17 May, the situation had worsened. The combination and accumulation of these floods have caused severe humanitarian needs. A total of 33 provinces (out of 34 provinces in Afghanistan) have been impacted, with Baghlan and Ghor hardest hit. The situation continues to develop, as more rainfall is still forecasted in the affected areas in the coming days.\n",
      "Killed:  {'score': 0.26089975237846375, 'start': 98, 'end': 101, 'answer': '300'}\n",
      "Injured:  {'score': 0.0004915355239063501, 'start': 98, 'end': 101, 'answer': '300'}\n",
      "Missing:  {'score': 1.9132473028093955e-07, 'start': 173, 'end': 180, 'answer': '257,850'}\n",
      "Displaced:  {'score': 0.03574010729789734, 'start': 173, 'end': 180, 'answer': '257,850'}\n",
      "Affected:  {'score': 0.36115536093711853, 'start': 173, 'end': 180, 'answer': '257,850'}\n",
      "Location:  {'score': 0.24919044971466064, 'start': 579, 'end': 588, 'answer': 'Northeast'}\n",
      "Original text:  ARCS is supporting the immediate response with teams comprising dozens of responders, augmented by staff from the IFRC network in-country, who are on the ground responding.\n",
      "Killed:  {'score': 0.00022655425709672272, 'start': 64, 'end': 70, 'answer': 'dozens'}\n",
      "Injured:  {'score': 0.0015325109707191586, 'start': 64, 'end': 70, 'answer': 'dozens'}\n",
      "Missing:  {'score': 4.30247382610105e-06, 'start': 64, 'end': 70, 'answer': 'dozens'}\n",
      "Displaced:  {'score': 0.000338261277647689, 'start': 64, 'end': 70, 'answer': 'dozens'}\n",
      "Affected:  {'score': 0.014154703356325626, 'start': 64, 'end': 70, 'answer': 'dozens'}\n",
      "Location:  {'score': 0.0017720891628414392, 'start': 127, 'end': 137, 'answer': 'in-country'}\n",
      "Original text:  This situation also occurs against the backdrop of ongoing crises across Afghanistan, following the compounding impacts of multiple shocks, including severe drought, multiple instances of flooding and earthquakes, public health emergencies, and economic hardship. The political changes of August 2021 prompted the application of a sanctions regime, which has fueled economic hardship due to constrained international banking.\n",
      "Killed:  {'score': 4.356687895779032e-06, 'start': 289, 'end': 300, 'answer': 'August 2021'}\n",
      "Injured:  {'score': 4.618325419869507e-06, 'start': 73, 'end': 84, 'answer': 'Afghanistan'}\n",
      "Missing:  {'score': 2.077552608170663e-06, 'start': 73, 'end': 84, 'answer': 'Afghanistan'}\n",
      "Displaced:  {'score': 6.249145371839404e-05, 'start': 73, 'end': 84, 'answer': 'Afghanistan'}\n",
      "Affected:  {'score': 0.00011885182175319642, 'start': 289, 'end': 300, 'answer': 'August 2021'}\n",
      "Location:  {'score': 0.5841761231422424, 'start': 73, 'end': 84, 'answer': 'Afghanistan'}\n",
      "Original text:  An estimated 23.7 million people—more than half of Afghanistan’s population—require humanitarian assistance to survive as the country enters its fourth consecutive year of drought conditions and the third year of crippling economic decline, while still reeling from the pre-existing effects of decades-long conflict. According to the INFORM risk index 2024, Afghanistan ranks as the fourth country in the world with the highest risk of humanitarian crises and disasters that may require international assistance.\n",
      "Killed:  {'score': 7.1390371886082e-05, 'start': 13, 'end': 62, 'answer': '23.7 million people—more than half of Afghanistan'}\n",
      "Injured:  {'score': 6.988156383158639e-05, 'start': 13, 'end': 62, 'answer': '23.7 million people—more than half of Afghanistan'}\n",
      "Missing:  {'score': 1.4153030178931658e-06, 'start': 13, 'end': 25, 'answer': '23.7 million'}\n",
      "Displaced:  {'score': 0.0021738007199019194, 'start': 13, 'end': 25, 'answer': '23.7 million'}\n",
      "Affected:  {'score': 0.2411750853061676, 'start': 13, 'end': 25, 'answer': '23.7 million'}\n",
      "Location:  {'score': 0.11975754052400589, 'start': 51, 'end': 62, 'answer': 'Afghanistan'}\n",
      "Original text:  **What happened, where and when?**\n",
      "Killed:  {'score': 9.020723155117594e-06, 'start': 0, 'end': 34, 'answer': '**What happened, where and when?**'}\n",
      "Injured:  {'score': 9.194689482683316e-06, 'start': 0, 'end': 34, 'answer': '**What happened, where and when?**'}\n",
      "Missing:  {'score': 1.8677321349969134e-05, 'start': 0, 'end': 34, 'answer': '**What happened, where and when?**'}\n",
      "Displaced:  {'score': 3.864690734189935e-05, 'start': 0, 'end': 34, 'answer': '**What happened, where and when?**'}\n",
      "Affected:  {'score': 1.0557267160038464e-05, 'start': 0, 'end': 34, 'answer': '**What happened, where and when?**'}\n",
      "Location:  {'score': 7.781812746543437e-05, 'start': 0, 'end': 34, 'answer': '**What happened, where and when?**'}\n",
      "Original text:  A severe flash flood struck the Lori and Tavush regions in Armenia on 26 May 2024, following heavy rain the previous day. Between Alaverdi and Chochkan, the flooding affected at least 15 villages, including Alaverdi, Akhtala, Bagratashen, Bendik, Deghdsavan, Haghtanak, Karkop, Mets Ayrum, Pokr Ayrum, Sanahin, Shamlug, and Shnogh. The flooding resulted in significant damage to infrastructure, homes, livestock, and businesses. Based on the latest national population census of Armenia, the combined population of these villages exceeds 30,000 people. Therefore, the impact on these people is imminent.\n",
      "Killed:  {'score': 0.00171806535217911, 'start': 184, 'end': 186, 'answer': '15'}\n",
      "Injured:  {'score': 0.19737084209918976, 'start': 175, 'end': 186, 'answer': 'at least 15'}\n",
      "Missing:  {'score': 1.441017900560837e-07, 'start': 538, 'end': 603, 'answer': '30,000 people. Therefore, the impact on these people is imminent.'}\n",
      "Displaced:  {'score': 0.032390568405389786, 'start': 175, 'end': 186, 'answer': 'at least 15'}\n",
      "Affected:  {'score': 0.30202269554138184, 'start': 175, 'end': 186, 'answer': 'at least 15'}\n",
      "Location:  {'score': 0.1908688098192215, 'start': 32, 'end': 55, 'answer': 'Lori and Tavush regions'}\n",
      "Original text:  The National Crisis Management Center of the Armenian Ministry of Internal Affairs received the first reports of the Debed River overflowing overnight on 26 May at 00:40, creating an extreme situation for residents of neighboring settlements. Prime Minister Nikol Pashinyan decided to form an operational headquarters at the regional level under the leadership of the Minister of Territorial Administration and Infrastructure, Gnel Sanosyan, and localized it in Alaverdi. The government, regional authorities, local rescue services, and municipalities are working diligently to respond to the emergency and help the affected population.\n",
      "Killed:  {'score': 0.0002359703794354573, 'start': 154, 'end': 160, 'answer': '26 May'}\n",
      "Injured:  {'score': 0.00012612633872777224, 'start': 154, 'end': 169, 'answer': '26 May at 00:40'}\n",
      "Missing:  {'score': 1.4023666153661907e-05, 'start': 45, 'end': 53, 'answer': 'Armenian'}\n",
      "Displaced:  {'score': 0.0006773183704353869, 'start': 154, 'end': 160, 'answer': '26 May'}\n",
      "Affected:  {'score': 0.00116473319940269, 'start': 45, 'end': 53, 'answer': 'Armenian'}\n",
      "Location:  {'score': 0.08525343984365463, 'start': 462, 'end': 470, 'answer': 'Alaverdi'}\n",
      "Original text:  Since the event began, emergency and rescue operations have been carried out in both flood-affected regions of Lori and Tavush. On 28 May, the Armenian government decided to declare a disaster zone in the communities of the Tavush and Lori regions. The decision was formalized in Resolution nr. 492-A issued on 28 May 2024 by the Prime Minister of the Republic of Armenia.\n",
      "Killed:  {'score': 0.0003659685607999563, 'start': 318, 'end': 322, 'answer': '2024'}\n",
      "Injured:  {'score': 0.00020409026183187962, 'start': 318, 'end': 322, 'answer': '2024'}\n",
      "Missing:  {'score': 6.5787776293291245e-06, 'start': 311, 'end': 371, 'answer': '28 May 2024 by the Prime Minister of the Republic of Armenia'}\n",
      "Displaced:  {'score': 0.0008940428378991783, 'start': 318, 'end': 322, 'answer': '2024'}\n",
      "Affected:  {'score': 0.0028504771180450916, 'start': 318, 'end': 322, 'answer': '2024'}\n",
      "Location:  {'score': 0.44862100481987, 'start': 111, 'end': 126, 'answer': 'Lori and Tavush'}\n"
     ]
    }
   ],
   "source": [
    "# now let's set up a pipeline to answer questions based on the summarized data\n",
    "\n",
    "qa_pipe = pipeline(\"question-answering\", model=qa_model, tokenizer=qa_model)\n",
    "\n",
    "killed_q = \"How many people were killed?\"\n",
    "injured_q= \"How many people were injured?\"\n",
    "missing_q = \"How many people are missing?\"\n",
    "displaced_q = \"How many people were displaced?\"\n",
    "affected_q = \"How many people were affected?\"\n",
    "location_q = \"Where did the event happen?\"\n",
    "\n",
    "#TODO:  Evaluate the confidence of the answers and only accept answers with a confidence above a certain threshold\n",
    "#TODO:  Consider how to incorporate synonyms into questions (e.g. displaced/homeless/migrant/migration)\n",
    "\n",
    "for index, row in df.iterrows():\n",
    "    source_text = row[\"source_original_text\"]\n",
    "    print(\"Original text: \", source_text)\n",
    "    \n",
    "    killed_a = qa_pipe(question=killed_q, context=source_text)\n",
    "    print(\"Killed: \", killed_a)\n",
    "    injured_a = qa_pipe(question=injured_q, context=source_text)\n",
    "    print(\"Injured: \", injured_a)\n",
    "    missing_a = qa_pipe(question=missing_q, context=source_text)\n",
    "    print(\"Missing: \", missing_a)\n",
    "    displaced_a = qa_pipe(question=displaced_q, context=source_text)\n",
    "    print(\"Displaced: \", displaced_a)\n",
    "    affected_a = qa_pipe(question=affected_q, context=source_text)\n",
    "    print(\"Affected: \", affected_a)\n",
    "    location_a = qa_pipe(question=location_q, context=source_text) \n",
    "    print(\"Location: \", location_a)\n",
    "    \n",
    "    df_results.at[index, \"killed\"] = killed_a\n",
    "    df_results.at[index, \"injured\"] = injured_a\n",
    "    df_results.at[index, \"displaced\"] = displaced_a\n",
    "    df_results.at[index, \"affected\"] = affected_a\n",
    "    df_results.at[index, \"location\"] = location_a\n",
    "\n",
    "\n",
    "    df_results.to_excel(\"sum_flan_T5_base_qa_roberta.xlsx\")"
   ]
  }
 ],
 "metadata": {
  "kernelspec": {
   "display_name": ".venv",
   "language": "python",
   "name": "python3"
  },
  "language_info": {
   "codemirror_mode": {
    "name": "ipython",
    "version": 3
   },
   "file_extension": ".py",
   "mimetype": "text/x-python",
   "name": "python",
   "nbconvert_exporter": "python",
   "pygments_lexer": "ipython3",
   "version": "3.12.3"
  }
 },
 "nbformat": 4,
 "nbformat_minor": 2
}
