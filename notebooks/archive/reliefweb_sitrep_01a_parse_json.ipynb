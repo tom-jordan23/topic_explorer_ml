{
 "cells": [
  {
   "cell_type": "markdown",
   "id": "94e75ef3-9c24-44ba-9b09-3fc8cd37a088",
   "metadata": {},
   "source": [
    "# Parse the json files that have been saved to disk"
   ]
  },
  {
   "cell_type": "code",
   "execution_count": 1,
   "id": "dce50b75-578b-43a2-ba6c-86644a17cac0",
   "metadata": {},
   "outputs": [],
   "source": [
    "import pandas as pd\n",
    "import uuid\n",
    "import json\n",
    "import os\n",
    "import uuid\n",
    "import re\n",
    "\n",
    "from datetime import datetime"
   ]
  },
  {
   "cell_type": "code",
   "execution_count": 2,
   "id": "c1ae777d-678f-4534-8ac3-cd0834d9ef8c",
   "metadata": {},
   "outputs": [],
   "source": [
    "fpath = \"D://projects//_external_files//reliefweb_situation_reports//\"\n",
    "output_fpath = \"D://projects//_external_files//surveyor//rw_siturep_preprocessed//\""
   ]
  },
  {
   "cell_type": "code",
   "execution_count": 3,
   "id": "3bf6bd27-00fe-4850-873c-c89f8dbee1a7",
   "metadata": {},
   "outputs": [],
   "source": [
    "def extract_themes(j):\n",
    "    #must pass in after levelling json up to j['fields']\n",
    "    themes = j.get('theme')\n",
    "    if themes is None:\n",
    "        return None\n",
    "        \n",
    "    ts =[]\n",
    "    for theme in themes:\n",
    "        ts.append(theme['name'].lower())\n",
    "    return '; '.join(ts)\n",
    "\n",
    "\n",
    "def parse_sitrep_json(j):\n",
    "    #for j in json_data:\n",
    "    \n",
    "    #parse \n",
    "    try:\n",
    "        reference_url = j['href']\n",
    "            \n",
    "        j = j['fields']\n",
    "        #print(j)\n",
    "        \n",
    "        glide_id = None\n",
    "        disaster = j.get('disaster')\n",
    "        if disaster:\n",
    "            glide_id = disaster[0]['glide']\n",
    "    \n",
    "        \n",
    "        rec_id = j['id']\n",
    "        title = j['title']\n",
    "        original_text = j['body']\n",
    "        link_to_doc = j['url_alias']\n",
    "        file_url = j['file'][0]['url']\n",
    "        primary_country_iso3 = j['primary_country']['iso3']\n",
    "        primary_country = j['primary_country']['shortname']\n",
    "        author_org = j['source'][0]['shortname']\n",
    "        report_date = j['date']['original']\n",
    "        themes = extract_themes(j)\n",
    "       \n",
    "        original_text_list = original_text.split(\"\\n\\n\")\n",
    "        idx_para = 0\n",
    "        for o in original_text_list:\n",
    "            row = ['situation report',reference_url,glide_id,idx_para,primary_country,title,themes,o,file_url,o,author_org,report_date]\n",
    "            df_reliefweb_situation_report.loc[len(df_reliefweb_situation_report)] = row\n",
    "            idx_para += 1\n",
    "    except:\n",
    "        pass"
   ]
  },
  {
   "cell_type": "code",
   "execution_count": 4,
   "id": "2bedc3d2-d3de-4bf0-b461-7566fa2706f6",
   "metadata": {},
   "outputs": [],
   "source": [
    "#prep receiving df\n",
    "df_reliefweb_situation_report = pd.DataFrame(columns = ['record_type','source_url','glide_id','idx_para','source_level_country','source_title','source_desc',\n",
    "                                                        'source_original_text','reference_url','text','authoring_org','reported_date'])\n",
    "\n",
    "\n",
    "for f in os.listdir(fpath):\n",
    "    with open(f\"{fpath}{f}\", 'r') as file:\n",
    "        json_data = json.load(file)\n",
    "        parse_sitrep_json(json_data)"
   ]
  },
  {
   "cell_type": "code",
   "execution_count": 5,
   "id": "0e93f25b-d9c6-41ee-83cc-2df1822c0c9c",
   "metadata": {},
   "outputs": [],
   "source": [
    "df_reliefweb_situation_report['para_id'] = 'rwsitrep_' + df_reliefweb_situation_report['reference_url'] + '_' + df_reliefweb_situation_report['idx_para'].astype(str)\n",
    "#df_reliefweb_situation_report = df_reliefweb_situation_report[df_reliefweb_situation_report['glide_id'] == 'EQ-2023-000015-TUR']\n",
    "#df_reliefweb_situation_report"
   ]
  },
  {
   "cell_type": "code",
   "execution_count": 9,
   "id": "0edd6f46-59c6-4661-adda-25deaf96e52a",
   "metadata": {},
   "outputs": [
    {
     "name": "stdout",
     "output_type": "stream",
     "text": [
      "D://projects//_external_files//surveyor//rw_sitrep_preprocessed//disaster_sitrep_json_parsed_bdfc9ddf9d3b40eba3f11669a3619268.xlsx\n"
     ]
    }
   ],
   "source": [
    "def generate_uuid(x):\n",
    "    return uuid.uuid4().hex\n",
    "    \n",
    "def undesirable_char_remover(text, ignore=[\".\" , \",\", \" \", \":\", \"-\", \"_\", \"(\", \")\", \";\", \"/\", \"'\"]):\n",
    "    return_chars = []\n",
    "    \n",
    "    def screen_char(char):\n",
    "        if c in ignore:\n",
    "            return_chars.append(c)\n",
    "        if c.isalnum() == True:\n",
    "            return_chars.append(c)\n",
    "        return None\n",
    "\n",
    "    if isinstance(text, str):\n",
    "        for c in text:\n",
    "            screened = screen_char(c)\n",
    "            if screened is not None:\n",
    "                return_chars.append(c)\n",
    "    else:\n",
    "        print(\"must pass in a string to this function\")\n",
    "        return text\n",
    "    \n",
    "\n",
    "    return ''.join(return_chars).strip() \n",
    "\n",
    "df_reliefweb_situation_report['source_original_text'] = df_reliefweb_situation_report['source_original_text'].apply(undesirable_char_remover)\n",
    "df_reliefweb_situation_report['text'] = df_reliefweb_situation_report['text'].apply(undesirable_char_remover)\n",
    "\n",
    "output_file = f\"D://projects//_external_files//surveyor//rw_sitrep_preprocessed//disaster_sitrep_json_parsed_{generate_uuid(1)}.xlsx\"\n",
    "df_reliefweb_situation_report.to_excel(output_file, sheet_name=\"json_parse\", index=False)\n",
    "print(output_file)"
   ]
  },
  {
   "cell_type": "code",
   "execution_count": null,
   "id": "761bd41a-3991-40d9-8076-728ee3858e0e",
   "metadata": {},
   "outputs": [],
   "source": []
  }
 ],
 "metadata": {
  "kernelspec": {
   "display_name": "Python 3 (ipykernel)",
   "language": "python",
   "name": "python3"
  },
  "language_info": {
   "codemirror_mode": {
    "name": "ipython",
    "version": 3
   },
   "file_extension": ".py",
   "mimetype": "text/x-python",
   "name": "python",
   "nbconvert_exporter": "python",
   "pygments_lexer": "ipython3",
   "version": "3.11.5"
  }
 },
 "nbformat": 4,
 "nbformat_minor": 5
}
