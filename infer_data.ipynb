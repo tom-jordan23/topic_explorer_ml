{
 "cells": [
  {
   "cell_type": "markdown",
   "metadata": {},
   "source": [
    "# Infer data\n",
    "\n",
    "Use the data gathered through Eric's collection script and run it through summarization and NER models to add additional summary columns"
   ]
  },
  {
   "cell_type": "code",
   "execution_count": 1,
   "metadata": {},
   "outputs": [],
   "source": [
    "import pandas as pd\n",
    "import os\n",
    "\n",
    "from transformers import pipeline, AutoTokenizer, BartForConditionalGeneration, BartTokenizer"
   ]
  },
  {
   "cell_type": "code",
   "execution_count": 2,
   "metadata": {},
   "outputs": [],
   "source": [
    "# config variables\n",
    "\n",
    "summary_file = \"summary_orig.xlsx\"\n",
    "summarization_model = \"facebook/bart-large-xsum\"\n",
    "question_answer_model = \"deepset/roberta-base-squad2\""
   ]
  },
  {
   "cell_type": "code",
   "execution_count": 3,
   "metadata": {},
   "outputs": [
    {
     "name": "stdout",
     "output_type": "stream",
     "text": [
      "/home/tjordan/code/git/topic_surveyor/summary_orig.xlsx\n"
     ]
    }
   ],
   "source": [
    "# load the excel data into a pandas dataframe\n",
    "directory_path = os.getcwd()\n",
    "summary_file = os.path.join(directory_path, summary_file)\n",
    "print(summary_file)\n",
    "df = pd.read_excel(summary_file)"
   ]
  },
  {
   "cell_type": "code",
   "execution_count": 5,
   "metadata": {},
   "outputs": [
    {
     "name": "stdout",
     "output_type": "stream",
     "text": [
      "Original text:  On 10 May 2024, flash floods swept across multiple provinces in the northeast region of Afghanistan, leaving more than 250,000 people homeless. The provinces most impacted by the flash floods were Badakhshan, Baghlan, and Takhar. These floods followed earlier flooding from 16 to 20 April 2024, which had affected 24 provinces.\n",
      "Input Token length:  73\n",
      "Summary Token length:  25\n",
      "Summary text:  The year 2024 was the worst on record for flash floods in Afghanistan, according to the World Health Organization (WHO).\n",
      "Original text:  Based on data consolidated by the Afghan Red Crescent Society (ARCS), as of 18 May 2024, at least 300 deaths had been reported in 33 provinces. More than 35,400 households (257,850 people) have been directly affected across the country, with one million people at risk of being indirectly affected nationwide. An estimated 22,000 livestock and close to 120,000 acres of agricultural land were destroyed. There are also numerous reports of bridges being destroyed, though the total numbers are yet to be confirmed. The 10 May 2024 flash floods intensified the flooding across the Northeast, and by 17 May, the situation had worsened. The combination and accumulation of these floods have caused severe humanitarian needs. A total of 33 provinces (out of 34 provinces in Afghanistan) have been impacted, with Baghlan and Ghor hardest hit. The situation continues to develop, as more rainfall is still forecasted in the affected areas in the coming days.\n",
      "Input Token length:  193\n",
      "Summary Token length:  53\n",
      "Summary text:  At least 300 people have been killed in Afghanistan as a result of flash floods that hit the country on 10 May 2024, according to the Afghan Red Crescent Society (ARCS), and more than one million people are at risk of being affected by the floods.\n",
      "Original text:  ARCS is supporting the immediate response with teams comprising dozens of responders, augmented by staff from the IFRC network in-country, who are on the ground responding.\n",
      "Input Token length:  39\n",
      "Summary Token length:  19\n",
      "Summary text:  The African Red Cross (ARCS) has launched an emergency response to the Ebola outbreak\n",
      "Original text:  This situation also occurs against the backdrop of ongoing crises across Afghanistan, following the compounding impacts of multiple shocks, including severe drought, multiple instances of flooding and earthquakes, public health emergencies, and economic hardship. The political changes of August 2021 prompted the application of a sanctions regime, which has fueled economic hardship due to constrained international banking.\n",
      "Input Token length:  72\n",
      "Summary Token length:  32\n",
      "Summary text:  The Afghan government has agreed to extend the term of President Ashraf Ghani's term by one year, to August 2021, subject to parliamentary approval.\n",
      "Original text:  An estimated 23.7 million people—more than half of Afghanistan’s population—require humanitarian assistance to survive as the country enters its fourth consecutive year of drought conditions and the third year of crippling economic decline, while still reeling from the pre-existing effects of decades-long conflict. According to the INFORM risk index 2024, Afghanistan ranks as the fourth country in the world with the highest risk of humanitarian crises and disasters that may require international assistance.\n",
      "Input Token length:  97\n",
      "Summary Token length:  34\n",
      "Summary text:  Afghanistan has the highest risk of humanitarian crises and disasters in the world, according to a new report by the International Institute for Strategic Studies (IISS).\n",
      "Original text:  **What happened, where and when?**\n",
      "Input Token length:  15\n",
      "Summary Token length:  7\n",
      "Summary text:  BBC Sport takes a look\n",
      "Original text:  A severe flash flood struck the Lori and Tavush regions in Armenia on 26 May 2024, following heavy rain the previous day. Between Alaverdi and Chochkan, the flooding affected at least 15 villages, including Alaverdi, Akhtala, Bagratashen, Bendik, Deghdsavan, Haghtanak, Karkop, Mets Ayrum, Pokr Ayrum, Sanahin, Shamlug, and Shnogh. The flooding resulted in significant damage to infrastructure, homes, livestock, and businesses. Based on the latest national population census of Armenia, the combined population of these villages exceeds 30,000 people. Therefore, the impact on these people is imminent.\n",
      "Input Token length:  151\n",
      "Summary Token length:  57\n",
      "Summary text:  The World Health Organization (WHO) has released a report on the effects of flash flooding in Armenia in 2024, which it says could have a \"catastrophic\" impact on tens of thousands of people in the country. and in the region in which the villages were affected.\n",
      "Original text:  The National Crisis Management Center of the Armenian Ministry of Internal Affairs received the first reports of the Debed River overflowing overnight on 26 May at 00:40, creating an extreme situation for residents of neighboring settlements. Prime Minister Nikol Pashinyan decided to form an operational headquarters at the regional level under the leadership of the Minister of Territorial Administration and Infrastructure, Gnel Sanosyan, and localized it in Alaverdi. The government, regional authorities, local rescue services, and municipalities are working diligently to respond to the emergency and help the affected population.\n",
      "Input Token length:  117\n",
      "Summary Token length:  51\n",
      "Summary text:  Armenia's Prime Minister Nikol Pashinyan has declared a state of emergency in the Alaverdi region due to the overflowing of the Debed River in the north-eastern province of Artsakh, the government has announced..\n",
      "Original text:  Since the event began, emergency and rescue operations have been carried out in both flood-affected regions of Lori and Tavush. On 28 May, the Armenian government decided to declare a disaster zone in the communities of the Tavush and Lori regions. The decision was formalized in Resolution nr. 492-A issued on 28 May 2024 by the Prime Minister of the Republic of Armenia.\n",
      "Input Token length:  84\n",
      "Summary Token length:  30\n",
      "Summary text:  The Armenian government has declared a disaster zone in the Tavush and Lori regions after heavy rain caused severe flooding in the region on 25 May.\n"
     ]
    }
   ],
   "source": [
    "# create the summarization pipeline and loop through the dataframe to summarize the data \n",
    "# in the source_original_text column and add the summary to the dataframe in a column named source_summary\n",
    "\n",
    "summarizer = BartForConditionalGeneration.from_pretrained(summarization_model)\n",
    "tokenizer = BartTokenizer.from_pretrained(summarization_model)\n",
    "\n",
    "scaling_factor = 0.5 #how much we want to scale the summary length\n",
    "\n",
    "df_results = pd.DataFrame(columns=[\"source_text\", \"summary_text\", \"source_text_tokens\", \"summary_text_tokens\", \"max_length\", \"min_length\", \"model used\"])\n",
    "\n",
    "for index, row in df.iterrows():\n",
    "    source_text = row[\"source_original_text\"]\n",
    "    print(\"Original text: \", source_text)\n",
    "\n",
    "    # tokenize the input text\n",
    "    inputs = tokenizer.encode(\"summarize: \" + source_text, return_tensors=\"pt\", max_length=1024, truncation=True)\n",
    "    input_length = len(inputs[0])\n",
    "    print(\"Input Token length: \", input_length)\n",
    "\n",
    "    # scale the summary length based on the input length\n",
    "    max_length = int(input_length * scaling_factor)\n",
    "    min_length = 50\n",
    "    if max_length < 50:\n",
    "        min_length = int(max_length * 0.5)\n",
    "\n",
    "    summary_ids = summarizer.generate(inputs, max_length=max_length, min_length=min_length, length_penalty=2.0, num_beams=4, early_stopping=True)\n",
    "    print(\"Summary Token length: \", len(summary_ids[0]))\n",
    "    summary = tokenizer.decode(summary_ids[0], skip_special_tokens=True)\n",
    "    print(\"Summary text: \", summary)\n",
    "    df_results.at[index, \"source_text\"] = source_text\n",
    "    df_results.at[index, \"summary_text\"] = summary\n",
    "    df_results.at[index, \"source_text_tokens\"] = input_length\n",
    "    df_results.at[index, \"summary_text_tokens\"] = len(summary_ids[0])\n",
    "    df_results.at[index, \"max_length\"] = max_length\n",
    "    df_results.at[index, \"min_length\"] = min_length\n",
    "    df_results.at[index, \"model used\"] = summarization_model\n",
    "\n",
    "# now write an excel file with the summarized data\n",
    "df_results.to_excel(\"summarized_data.xlsx\")"
   ]
  },
  {
   "cell_type": "code",
   "execution_count": null,
   "metadata": {},
   "outputs": [],
   "source": []
  }
 ],
 "metadata": {
  "kernelspec": {
   "display_name": ".venv",
   "language": "python",
   "name": "python3"
  },
  "language_info": {
   "codemirror_mode": {
    "name": "ipython",
    "version": 3
   },
   "file_extension": ".py",
   "mimetype": "text/x-python",
   "name": "python",
   "nbconvert_exporter": "python",
   "pygments_lexer": "ipython3",
   "version": "3.10.12"
  }
 },
 "nbformat": 4,
 "nbformat_minor": 2
}
